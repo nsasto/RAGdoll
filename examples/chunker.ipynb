{
 "cells": [
  {
   "cell_type": "code",
   "execution_count": 11,
   "metadata": {},
   "outputs": [],
   "source": [
    "from ragdoll.chunkers.chunker import Chunker\n"
   ]
  },
  {
   "cell_type": "markdown",
   "metadata": {},
   "source": [
    "\n",
    "### Option 1: Load default config automatically\n"
   ]
  },
  {
   "cell_type": "code",
   "execution_count": 12,
   "metadata": {},
   "outputs": [],
   "source": [
    "splitter = Chunker().get_text_splitter()"
   ]
  },
  {
   "cell_type": "markdown",
   "metadata": {},
   "source": [
    "### Option 2: Load default config using the class method"
   ]
  },
  {
   "cell_type": "code",
   "execution_count": 13,
   "metadata": {},
   "outputs": [],
   "source": [
    "chunker = Chunker.from_config()\n",
    "splitter = chunker.get_text_splitter()"
   ]
  },
  {
   "cell_type": "code",
   "execution_count": 14,
   "metadata": {},
   "outputs": [
    {
     "data": {
      "text/plain": [
       "<langchain_text_splitters.markdown.MarkdownHeaderTextSplitter at 0x7ae87539fb90>"
      ]
     },
     "execution_count": 14,
     "metadata": {},
     "output_type": "execute_result"
    }
   ],
   "source": [
    "splitter"
   ]
  },
  {
   "cell_type": "code",
   "execution_count": 15,
   "metadata": {},
   "outputs": [],
   "source": [
    "text = \"\"\"\n",
    "# This is a sample Markdown document\n",
    "\n",
    "This is some introductory text.\n",
    "\n",
    "## Section 1\n",
    "\n",
    "This is the content of section 1.\n",
    "\n",
    "### Subsection A\n",
    "\n",
    "This is a subsection within section 1.\n",
    "\n",
    "## Section 2\n",
    "\n",
    "This is the content of section 2.\n",
    "\"\"\""
   ]
  },
  {
   "cell_type": "code",
   "execution_count": 16,
   "metadata": {},
   "outputs": [
    {
     "name": "stdout",
     "output_type": "stream",
     "text": [
      "<--- Chunk 1: --->\n",
      "page_content='This is some introductory text.' metadata={1: 'This is a sample Markdown document'}\n",
      "---\n",
      "<--- Chunk 2: --->\n",
      "page_content='This is the content of section 1.' metadata={1: 'This is a sample Markdown document', 2: 'Section 1'}\n",
      "---\n",
      "<--- Chunk 3: --->\n",
      "page_content='This is a subsection within section 1.' metadata={1: 'Subsection A', 2: 'Section 1'}\n",
      "---\n",
      "<--- Chunk 4: --->\n",
      "page_content='This is the content of section 2.' metadata={2: 'Section 2'}\n",
      "---\n"
     ]
    }
   ],
   "source": [
    "chunks = splitter.split_text(text)\n",
    "for i, chunk in enumerate(chunks):\n",
    "    print(f\"<--- Chunk {i+1}: --->\\n{chunk}\\n---\")"
   ]
  },
  {
   "cell_type": "markdown",
   "metadata": {},
   "source": [
    "### Option 3: Provide a custom config\n",
    "\n",
    "Assuming you have a 'my_config' object:\n"
   ]
  },
  {
   "cell_type": "code",
   "execution_count": 17,
   "metadata": {},
   "outputs": [],
   "source": [
    "#splitter = Chunker(config=my_config).get_text_splitter()"
   ]
  },
  {
   "cell_type": "code",
   "execution_count": 18,
   "metadata": {},
   "outputs": [],
   "source": [
    "\n",
    "# Now use the splitter\n",
    "text = \"Your text here...\"\n",
    "#chunks = splitter.split_text(text)\n",
    "#print(chunks)"
   ]
  },
  {
   "cell_type": "markdown",
   "metadata": {},
   "source": []
  }
 ],
 "metadata": {
  "kernelspec": {
   "display_name": ".venv",
   "language": "python",
   "name": "python3"
  },
  "language_info": {
   "codemirror_mode": {
    "name": "ipython",
    "version": 3
   },
   "file_extension": ".py",
   "mimetype": "text/x-python",
   "name": "python",
   "nbconvert_exporter": "python",
   "pygments_lexer": "ipython3",
   "version": "3.11.10"
  }
 },
 "nbformat": 4,
 "nbformat_minor": 2
}
