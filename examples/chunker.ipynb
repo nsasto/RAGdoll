{
 "cells": [
  {
   "cell_type": "code",
   "execution_count": 3,
   "metadata": {},
   "outputs": [],
   "source": [
    "from ragdoll.chunkers.chunker import Chunker\n"
   ]
  },
  {
   "cell_type": "markdown",
   "metadata": {},
   "source": [
    "\n",
    "### Option 1: Load default config automatically\n"
   ]
  },
  {
   "cell_type": "code",
   "execution_count": 4,
   "metadata": {},
   "outputs": [],
   "source": [
    "splitter = Chunker().get_text_splitter()"
   ]
  },
  {
   "cell_type": "markdown",
   "metadata": {},
   "source": [
    "### Option 2: Load default config using the class method"
   ]
  },
  {
   "cell_type": "code",
   "execution_count": 5,
   "metadata": {},
   "outputs": [],
   "source": [
    "chunker = Chunker.from_config()\n",
    "splitter = chunker.get_text_splitter()"
   ]
  },
  {
   "cell_type": "code",
   "execution_count": 6,
   "metadata": {},
   "outputs": [
    {
     "data": {
      "text/plain": [
       "<langchain_text_splitters.character.RecursiveCharacterTextSplitter at 0x7cfddf0c3cd0>"
      ]
     },
     "execution_count": 6,
     "metadata": {},
     "output_type": "execute_result"
    }
   ],
   "source": [
    "splitter"
   ]
  },
  {
   "cell_type": "code",
   "execution_count": 9,
   "metadata": {},
   "outputs": [],
   "source": [
    "text = \"\"\"\n",
    "# This is a sample Markdown document\n",
    "\n",
    "This is some introductory text.\n",
    "\n",
    "## Section 1\n",
    "\n",
    "This is the content of section 1.\n",
    "\n",
    "### Subsection A\n",
    "\n",
    "This is a subsection within section 1.\n",
    "\n",
    "## Section 2\n",
    "\n",
    "This is the content of section 2.\n",
    "\"\"\""
   ]
  },
  {
   "cell_type": "code",
   "execution_count": 10,
   "metadata": {},
   "outputs": [
    {
     "name": "stdout",
     "output_type": "stream",
     "text": [
      "Chunk 1:\n",
      "# This is a sample Markdown document\n",
      "\n",
      "This is some introductory text.\n",
      "\n",
      "## Section 1\n",
      "\n",
      "This is the content of section 1.\n",
      "\n",
      "### Subsection A\n",
      "\n",
      "This is a subsection within section 1.\n",
      "\n",
      "## Section 2\n",
      "\n",
      "This is the content of section 2.\n",
      "---\n"
     ]
    }
   ],
   "source": [
    "chunks = splitter.split_text(text)\n",
    "for i, chunk in enumerate(chunks):\n",
    "    print(f\"Chunk {i+1}:\\n{chunk}\\n---\")"
   ]
  },
  {
   "cell_type": "markdown",
   "metadata": {},
   "source": [
    "### Option 3: Provide a custom config\n",
    "\n",
    "Assuming you have a 'my_config' object:\n"
   ]
  },
  {
   "cell_type": "code",
   "execution_count": 11,
   "metadata": {},
   "outputs": [],
   "source": [
    "#splitter = Chunker(config=my_config).get_text_splitter()"
   ]
  },
  {
   "cell_type": "code",
   "execution_count": 4,
   "metadata": {},
   "outputs": [],
   "source": [
    "\n",
    "# Now use the splitter\n",
    "text = \"Your text here...\"\n",
    "#chunks = splitter.split_text(text)\n",
    "#print(chunks)"
   ]
  },
  {
   "cell_type": "markdown",
   "metadata": {},
   "source": []
  }
 ],
 "metadata": {
  "kernelspec": {
   "display_name": ".venv",
   "language": "python",
   "name": "python3"
  },
  "language_info": {
   "codemirror_mode": {
    "name": "ipython",
    "version": 3
   },
   "file_extension": ".py",
   "mimetype": "text/x-python",
   "name": "python",
   "nbconvert_exporter": "python",
   "pygments_lexer": "ipython3",
   "version": "3.11.10"
  }
 },
 "nbformat": 4,
 "nbformat_minor": 2
}
